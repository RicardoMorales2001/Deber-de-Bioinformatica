{
 "cells": [
  {
   "cell_type": "code",
   "execution_count": 203,
   "id": "69afac96",
   "metadata": {},
   "outputs": [],
   "source": [
    "%matplotlib inline\n",
    "#Descarga de librerias \n",
    "import numpy as np\n",
    "import matplotlib.pyplot as plt\n",
    "import matplotlib.mlab as mlab\n",
    "import math\n",
    "import seaborn as sns\n",
    "import pandas as pd"
   ]
  },
  {
   "cell_type": "code",
   "execution_count": 204,
   "id": "e5cb43b6",
   "metadata": {},
   "outputs": [],
   "source": [
    "import re\n",
    "import csv"
   ]
  },
  {
   "cell_type": "code",
   "execution_count": 205,
   "id": "5b4b209b",
   "metadata": {},
   "outputs": [],
   "source": [
    "with open('./pubmed-bothropsat-set.txt', encoding= 'utf-8') as f:\n",
    "    datos = f.read()"
   ]
  },
  {
   "cell_type": "code",
   "execution_count": 206,
   "id": "20fdb8cf",
   "metadata": {},
   "outputs": [],
   "source": [
    "datospaises = re.sub(r'\\n\\s{5}', ' ', datos)\n",
    "datospaises2 = re.findall(r'\\,\\s([A-zA-Z]{4,11})\\.', datospaises)"
   ]
  },
  {
   "cell_type": "code",
   "execution_count": 207,
   "id": "cec7dca4",
   "metadata": {},
   "outputs": [],
   "source": [
    "datapaises = re.findall(r'\\,\\s([A-zA-Z]{3,11})\\.', datospaises)"
   ]
  },
  {
   "cell_type": "code",
   "execution_count": 208,
   "id": "247622e4",
   "metadata": {},
   "outputs": [],
   "source": [
    "unique_datapaises = list(set(datapaises))"
   ]
  },
  {
   "cell_type": "code",
   "execution_count": 209,
   "id": "2b371831",
   "metadata": {},
   "outputs": [],
   "source": [
    "unique_datapaises.sort()"
   ]
  },
  {
   "cell_type": "code",
   "execution_count": 210,
   "id": "bcc33368",
   "metadata": {},
   "outputs": [
    {
     "name": "stdout",
     "output_type": "stream",
     "text": [
      "['Australia', 'Brasil', 'Brazil', 'CEP', 'Chile', 'China', 'Germany', 'Japan', 'Korea', 'Pakistan', 'Peru', 'Rod', 'USA', 'Venezuela']\n"
     ]
    }
   ],
   "source": [
    "da= unique_datapaises\n",
    "print(da)"
   ]
  },
  {
   "cell_type": "code",
   "execution_count": 211,
   "id": "29b1854d",
   "metadata": {},
   "outputs": [
    {
     "data": {
      "text/html": [
       "<div>\n",
       "<style scoped>\n",
       "    .dataframe tbody tr th:only-of-type {\n",
       "        vertical-align: middle;\n",
       "    }\n",
       "\n",
       "    .dataframe tbody tr th {\n",
       "        vertical-align: top;\n",
       "    }\n",
       "\n",
       "    .dataframe thead th {\n",
       "        text-align: right;\n",
       "    }\n",
       "</style>\n",
       "<table border=\"1\" class=\"dataframe\">\n",
       "  <thead>\n",
       "    <tr style=\"text-align: right;\">\n",
       "      <th></th>\n",
       "      <th>Country</th>\n",
       "      <th>Latitude</th>\n",
       "      <th>Longitude</th>\n",
       "      <th>Name</th>\n",
       "    </tr>\n",
       "  </thead>\n",
       "  <tbody>\n",
       "    <tr>\n",
       "      <th>0</th>\n",
       "      <td>AD</td>\n",
       "      <td>42.546245</td>\n",
       "      <td>1.601554</td>\n",
       "      <td>Andorra</td>\n",
       "    </tr>\n",
       "    <tr>\n",
       "      <th>1</th>\n",
       "      <td>AE</td>\n",
       "      <td>23.424076</td>\n",
       "      <td>53.847818</td>\n",
       "      <td>United Arab Emirates</td>\n",
       "    </tr>\n",
       "    <tr>\n",
       "      <th>2</th>\n",
       "      <td>AF</td>\n",
       "      <td>33.939110</td>\n",
       "      <td>67.709953</td>\n",
       "      <td>Afghanistan</td>\n",
       "    </tr>\n",
       "    <tr>\n",
       "      <th>3</th>\n",
       "      <td>AG</td>\n",
       "      <td>17.060816</td>\n",
       "      <td>-61.796428</td>\n",
       "      <td>Antigua and Barbuda</td>\n",
       "    </tr>\n",
       "    <tr>\n",
       "      <th>4</th>\n",
       "      <td>AI</td>\n",
       "      <td>18.220554</td>\n",
       "      <td>-63.068615</td>\n",
       "      <td>Anguilla</td>\n",
       "    </tr>\n",
       "    <tr>\n",
       "      <th>5</th>\n",
       "      <td>AL</td>\n",
       "      <td>41.153332</td>\n",
       "      <td>20.168331</td>\n",
       "      <td>Albania</td>\n",
       "    </tr>\n",
       "    <tr>\n",
       "      <th>6</th>\n",
       "      <td>AM</td>\n",
       "      <td>40.069099</td>\n",
       "      <td>45.038189</td>\n",
       "      <td>Armenia</td>\n",
       "    </tr>\n",
       "    <tr>\n",
       "      <th>7</th>\n",
       "      <td>AN</td>\n",
       "      <td>12.226079</td>\n",
       "      <td>-69.060087</td>\n",
       "      <td>Netherlands Antilles</td>\n",
       "    </tr>\n",
       "    <tr>\n",
       "      <th>8</th>\n",
       "      <td>AO</td>\n",
       "      <td>-11.202692</td>\n",
       "      <td>17.873887</td>\n",
       "      <td>Angola</td>\n",
       "    </tr>\n",
       "    <tr>\n",
       "      <th>9</th>\n",
       "      <td>AQ</td>\n",
       "      <td>-75.250973</td>\n",
       "      <td>-0.071389</td>\n",
       "      <td>Antarctica</td>\n",
       "    </tr>\n",
       "    <tr>\n",
       "      <th>10</th>\n",
       "      <td>AR</td>\n",
       "      <td>-38.416097</td>\n",
       "      <td>-63.616672</td>\n",
       "      <td>Argentina</td>\n",
       "    </tr>\n",
       "  </tbody>\n",
       "</table>\n",
       "</div>"
      ],
      "text/plain": [
       "   Country   Latitude  Longitude                  Name\n",
       "0       AD  42.546245   1.601554               Andorra\n",
       "1       AE  23.424076  53.847818  United Arab Emirates\n",
       "2       AF  33.939110  67.709953           Afghanistan\n",
       "3       AG  17.060816 -61.796428   Antigua and Barbuda\n",
       "4       AI  18.220554 -63.068615              Anguilla\n",
       "5       AL  41.153332  20.168331               Albania\n",
       "6       AM  40.069099  45.038189               Armenia\n",
       "7       AN  12.226079 -69.060087  Netherlands Antilles\n",
       "8       AO -11.202692  17.873887                Angola\n",
       "9       AQ -75.250973  -0.071389            Antarctica\n",
       "10      AR -38.416097 -63.616672             Argentina"
      ]
     },
     "execution_count": 211,
     "metadata": {},
     "output_type": "execute_result"
    }
   ],
   "source": [
    "data1 = pd.read_csv('coordenadasp.txt', engine='python', skipfooter=3)\n",
    "data1.head(11)"
   ]
  },
  {
   "cell_type": "code",
   "execution_count": 212,
   "id": "60fcb2f8",
   "metadata": {},
   "outputs": [],
   "source": [
    "nombre = data1[data1.Name.isin(unique_datapaises)]\n",
    "paisesdtt = data1[data1.Country.isin(unique_datapaises)]\n",
    "completo =pd.concat([nombre,paisesdtt]).drop_duplicates().sort_values('Name')"
   ]
  },
  {
   "cell_type": "code",
   "execution_count": 213,
   "id": "80d7b2a8",
   "metadata": {},
   "outputs": [
    {
     "data": {
      "text/plain": [
       "<matplotlib.colorbar.Colorbar at 0x17485f1a8e0>"
      ]
     },
     "execution_count": 213,
     "metadata": {},
     "output_type": "execute_result"
    },
    {
     "data": {
      "image/png": "[encoded data removed]",
      "text/plain": [
       "<Figure size 432x288 with 2 Axes>"
      ]
     },
     "metadata": {
      "needs_background": "light"
     },
     "output_type": "display_data"
    }
   ],
   "source": [
    "import matplotlib.pyplot as plt\n",
    "plt.scatter(completo.Longitude, completo.Latitude, s=30, c=completo.Latitude)\n",
    "plt.colorbar()"
   ]
  },
  {
   "cell_type": "code",
   "execution_count": 214,
   "id": "01f4a424",
   "metadata": {},
   "outputs": [
    {
     "data": {
      "image/png": "[encoded data removed]",
      "text/plain": [
       "<Figure size 432x288 with 2 Axes>"
      ]
     },
     "metadata": {
      "needs_background": "light"
     },
     "output_type": "display_data"
    }
   ],
   "source": [
    "import matplotlib.pyplot as plt\n",
    "plt.scatter(completo.Longitude, completo.Latitude, s=30, c=completo.Latitude)\n",
    "plt.colorbar()\n",
    "\n",
    "ard= dict(arrowstyle='->')\n",
    "plt.annotate('Australia', xy=(133.775136, -25.274398),\n",
    "            xytext = (133.775136, -22), arrowprops= ard)\n",
    "plt.annotate('Brasil', xy=(-51.92528, -14.235004),\n",
    "            xytext = (-51.92528, -11), arrowprops= ard)\n",
    "plt.annotate('Brazil', xy=(-51.92528, -14.235004),\n",
    "            xytext = (-51.92528, -11), arrowprops= ard)\n",
    "plt.annotate('Chile', xy=(-71.542969, -35.675147),\n",
    "            xytext = (-71.542969, -32), arrowprops= ard)\n",
    "plt.annotate('China', xy = (104.195397, 35.86166), \n",
    "               xytext = (104.195397, 39), arrowprops= ard)\n",
    "plt.annotate('Germany', xy = (10.451526, 51.165691), \n",
    "               xytext = (10.451526, 54), arrowprops= ard)\n",
    "plt.annotate('Japan', xy = (138.252924, 36.204824), \n",
    "               xytext = (138.252924, 33), arrowprops= ard)\n",
    "plt.annotate('Korea', xy = (127.510093, 40.339852), \n",
    "               xytext = (127.510093, 37), arrowprops= ard)\n",
    "plt.annotate('Pakistán', xy = (69.345116, 30.375321), \n",
    "               xytext = (69.345116, 33), arrowprops= ard)\n",
    "plt.annotate('Perú', xy = (-75.015152, -9.189967), \n",
    "               xytext = (-75.015152, -6), arrowprops= ard)\n",
    "plt.annotate('United States', xy = (-95.712891, 37.09024), \n",
    "               xytext = (-95.712891, 40), arrowprops = ard)\n",
    "plt.annotate('Venezuela', xy = (-66.58973, 6.42375), \n",
    "               xytext = (-66.58973, 9), arrowprops = ard)\n",
    "\n",
    "pgrafica=plt\n",
    "plSize = pgrafica\n",
    "plt.show()"
   ]
  },
  {
   "cell_type": "code",
   "execution_count": null,
   "id": "5558e617",
   "metadata": {},
   "outputs": [],
   "source": []
  }
 ],
 "metadata": {
  "kernelspec": {
   "display_name": "Python 3",
   "language": "python",
   "name": "python3"
  },
  "language_info": {
   "codemirror_mode": {
    "name": "ipython",
    "version": 3
   },
   "file_extension": ".py",
   "mimetype": "text/x-python",
   "name": "python",
   "nbconvert_exporter": "python",
   "pygments_lexer": "ipython3",
   "version": "3.8.8"
  }
 },
 "nbformat": 4,
 "nbformat_minor": 5
}
